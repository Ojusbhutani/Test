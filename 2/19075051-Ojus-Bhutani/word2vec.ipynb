{
 "cells": [
  {
   "cell_type": "code",
   "execution_count": 2,
   "metadata": {
    "colab": {
     "base_uri": "https://localhost:8080/"
    },
    "id": "FH7HJhjPmfjK",
    "outputId": "7d844a9a-c3a9-457d-d0cf-d02a2533f8b3"
   },
   "outputs": [
    {
     "name": "stdout",
     "output_type": "stream",
     "text": [
      "Mounted at /content/drive\n"
     ]
    }
   ],
   "source": [
    "from google.colab import drive\n",
    "drive.mount('/content/drive')"
   ]
  },
  {
   "cell_type": "code",
   "execution_count": 3,
   "metadata": {
    "id": "Deuu5gHHmlA1"
   },
   "outputs": [],
   "source": [
    "import os\n",
    "os.chdir(\"/content/drive/My Drive/vecmap\")"
   ]
  },
  {
   "cell_type": "code",
   "execution_count": null,
   "metadata": {
    "id": "Xs-Vg3RtZEUn"
   },
   "outputs": [],
   "source": [
    "#preprocess the data first\n",
    "import gensim"
   ]
  },
  {
   "cell_type": "code",
   "execution_count": null,
   "metadata": {
    "id": "LgDzNkNXZG9K"
   },
   "outputs": [],
   "source": [
    "model.wv.save_word2vec_format('model.bin')"
   ]
  },
  {
   "cell_type": "code",
   "execution_count": null,
   "metadata": {
    "id": "6a6d05KVZKkR"
   },
   "outputs": [],
   "source": [
    "!python a.py ukwac_data.txt"
   ]
  },
  {
   "cell_type": "code",
   "execution_count": null,
   "metadata": {
    "id": "5LA_eBYGZKg3"
   },
   "outputs": [],
   "source": [
    "!python a.py dewac_data.txt"
   ]
  },
  {
   "cell_type": "code",
   "execution_count": null,
   "metadata": {
    "id": "FG2r4Pe5ZKd6"
   },
   "outputs": [],
   "source": [
    "model = gensim.models.Word2Vec(sentences,sg=1)"
   ]
  },
  {
   "cell_type": "code",
   "execution_count": null,
   "metadata": {
    "id": "iM2-hV1KZKbl"
   },
   "outputs": [],
   "source": [
    "model2=gensim.models.Word2Vec(sentences2,sg=1)"
   ]
  },
  {
   "cell_type": "code",
   "execution_count": null,
   "metadata": {
    "id": "xCMPFmmmZKVM"
   },
   "outputs": [],
   "source": [
    "model.wv.save_word2vec_format('ukwvc.txt', binary=False)\n",
    "model2.wv.save_word2vec_format('dewvc.txt', binary=False)"
   ]
  },
  {
   "cell_type": "code",
   "execution_count": null,
   "metadata": {
    "id": "Yi52t91YZKJt"
   },
   "outputs": [],
   "source": [
    "!python map_embeddings.py --unsupervised ukwvc.txt dewvc.txt ukwvc1_mapped dewvc1_mapped --cuda"
   ]
  },
  {
   "cell_type": "code",
   "execution_count": 4,
   "metadata": {
    "id": "ng5XtYUCpRyQ"
   },
   "outputs": [],
   "source": [
    "! python3 eval_translation.py ukwvc1_mapped dewvc1_mapped -d en-de-1-5000-training.txt --retrieval csls"
   ]
  },
  {
   "cell_type": "code",
   "execution_count": null,
   "metadata": {
    "id": "f0N7Eme-EhUq"
   },
   "outputs": [],
   "source": [
    "!python map_embeddings.py --unsupervised dewvc.txt ukwvc.txt dewvc2_mapped ukwvc2_mapped --cuda"
   ]
  },
  {
   "cell_type": "code",
   "execution_count": null,
   "metadata": {
    "id": "_o05tZQrOmWo"
   },
   "outputs": [],
   "source": [
    "! python3 eval_translation.py dewvc2_mapped ukwvc2_mapped -d de-en-1-5000-training.txt --retrieval csls"
   ]
  }
 ],
 "metadata": {
  "accelerator": "GPU",
  "colab": {
   "name": "Untitled1.ipynb",
   "provenance": []
  },
  "kernelspec": {
   "display_name": "Python 3",
   "language": "python",
   "name": "python3"
  },
  "language_info": {
   "codemirror_mode": {
    "name": "ipython",
    "version": 3
   },
   "file_extension": ".py",
   "mimetype": "text/x-python",
   "name": "python",
   "nbconvert_exporter": "python",
   "pygments_lexer": "ipython3",
   "version": "3.7.7"
  }
 },
 "nbformat": 4,
 "nbformat_minor": 1
}
