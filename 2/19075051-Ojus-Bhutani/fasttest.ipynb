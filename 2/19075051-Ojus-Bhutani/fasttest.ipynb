{
 "cells": [
  {
   "cell_type": "code",
   "execution_count": 3,
   "metadata": {
    "colab": {
     "base_uri": "https://localhost:8080/"
    },
    "id": "djqja1-_f8hy",
    "outputId": "43d74b21-edd2-4e9c-ca8e-20af3b84aec3"
   },
   "outputs": [
    {
     "name": "stdout",
     "output_type": "stream",
     "text": [
      "Mounted at /content/drive\n"
     ]
    }
   ],
   "source": [
    "from google.colab import drive\n",
    "drive.mount('/content/drive')"
   ]
  },
  {
   "cell_type": "code",
   "execution_count": 4,
   "metadata": {
    "id": "kmwe0O2ShLIk"
   },
   "outputs": [],
   "source": [
    "import os\n",
    "os.chdir(\"/content/drive/My Drive/vecmap\")"
   ]
  },
  {
   "cell_type": "code",
   "execution_count": null,
   "metadata": {},
   "outputs": [],
   "source": [
    "!wget https://comparable.limsi.fr/bucc2020/tr/en-de-1-5000-training.txt\n",
    "!wget https://comparable.limsi.fr/bucc2020/tr/de-en-1-5000-training.txt"
   ]
  },
  {
   "cell_type": "code",
   "execution_count": null,
   "metadata": {
    "id": "3ChR3HEgK96e"
   },
   "outputs": [],
   "source": [
    "!python3 map_embeddings.py --unsupervised ukwac.txt dewac.txt ukwac1_MAPPED.EMB dewac1_MAPPED.EMB --cuda"
   ]
  },
  {
   "cell_type": "code",
   "execution_count": null,
   "metadata": {
    "colab": {
     "base_uri": "https://localhost:8080/"
    },
    "id": "4Z-W9PxwLO_H",
    "outputId": "1421b0f6-d9d0-43fa-dce3-fd6aff706612"
   },
   "outputs": [
    {
     "name": "stdout",
     "output_type": "stream",
     "text": [
      "tcmalloc: large alloc 1313570816 bytes == 0x557c7b9fe000 @  0x7f007b1e41e7 0x7f0078d2446e 0x7f0078d74c7b 0x7f0078d75290 0x7f0078d6d3ea 0x7f0078f94145 0x7f0078e12988 0x7f0078e0d367 0x557c28de6050 0x557c28ed799d 0x557c28e59fe9 0x557c28e54e0d 0x557c28de777a 0x557c28e55a45 0x557c28e54b0e 0x557c28e54813 0x557c28f1e592 0x557c28f1e90d 0x557c28f1e7b6 0x557c28ef6103 0x557c28ef5dac 0x7f0079fcebf7 0x557c28ef5c8a\n",
      "tcmalloc: large alloc 1313570816 bytes == 0x557cc9eb6000 @  0x7f007b1e41e7 0x7f0078d2446e 0x7f0078d74c7b 0x7f0078d75290 0x7f0078d6d3ea 0x7f0078f94145 0x7f0078e12988 0x7f0078e0d367 0x557c28de6050 0x557c28ed799d 0x557c28e59fe9 0x557c28e54e0d 0x557c28de777a 0x557c28e55a45 0x557c28e54b0e 0x557c28e54813 0x557c28f1e592 0x557c28f1e90d 0x557c28f1e7b6 0x557c28ef6103 0x557c28ef5dac 0x7f0079fcebf7 0x557c28ef5c8a\n",
      "Coverage: 99.55%  Accuracy: 63.99%\n"
     ]
    }
   ],
   "source": [
    "! python3 eval_translation.py ukwac1_MAPPED.EMB dewac1_MAPPED.EMB -d en-de-1-5000-training.txt"
   ]
  },
  {
   "cell_type": "code",
   "execution_count": null,
   "metadata": {
    "id": "3_6eP66JkQON"
   },
   "outputs": [],
   "source": [
    "!python3 map_embeddings.py --unsupervised dewac.txt ukwac.txt dewac2_MAPPED.EMB ukwac2_MAPPED.EMB  --cuda"
   ]
  },
  {
   "cell_type": "code",
   "execution_count": null,
   "metadata": {
    "colab": {
     "base_uri": "https://localhost:8080/"
    },
    "id": "IXutC-nUJyr9",
    "outputId": "e095864b-3f3b-4164-e273-8cc71a6edde3"
   },
   "outputs": [
    {
     "name": "stdout",
     "output_type": "stream",
     "text": [
      "Coverage: 99.40%  Accuracy: 62.22%\n"
     ]
    }
   ],
   "source": [
    "! python3 eval_translation.py dewac2_MAPPED.EMB ukwac2_MAPPED.EMB -d de-en-1-5000-training.txt"
   ]
  },
  {
   "cell_type": "code",
   "execution_count": null,
   "metadata": {
    "id": "0pVFlXkC8N6t"
   },
   "outputs": [],
   "source": []
  }
 ],
 "metadata": {
  "accelerator": "GPU",
  "colab": {
   "name": "Untitled0.ipynb",
   "provenance": []
  },
  "kernelspec": {
   "display_name": "Python 3",
   "language": "python",
   "name": "python3"
  },
  "language_info": {
   "codemirror_mode": {
    "name": "ipython",
    "version": 3
   },
   "file_extension": ".py",
   "mimetype": "text/x-python",
   "name": "python",
   "nbconvert_exporter": "python",
   "pygments_lexer": "ipython3",
   "version": "3.7.7"
  }
 },
 "nbformat": 4,
 "nbformat_minor": 1
}
